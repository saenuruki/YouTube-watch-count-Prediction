{
  "nbformat": 4,
  "nbformat_minor": 0,
  "metadata": {
    "colab": {
      "name": "YouTubePrediction-LightGBM.ipynb",
      "provenance": [],
      "authorship_tag": "ABX9TyMYNfksa0Jlx79NDzqmaAZY",
      "include_colab_link": true
    },
    "kernelspec": {
      "name": "python3",
      "display_name": "Python 3"
    }
  },
  "cells": [
    {
      "cell_type": "markdown",
      "metadata": {
        "id": "view-in-github",
        "colab_type": "text"
      },
      "source": [
        "<a href=\"https://colab.research.google.com/github/saenuruki/YouTube-watch-count-Prediction/blob/master/YouTubePrediction_LightGBM.ipynb\" target=\"_parent\"><img src=\"https://colab.research.google.com/assets/colab-badge.svg\" alt=\"Open In Colab\"/></a>"
      ]
    },
    {
      "cell_type": "code",
      "metadata": {
        "id": "YG29vVCEg0X8",
        "colab_type": "code",
        "outputId": "30d7c434-1c24-4e06-8c52-7789bb3bd3bf",
        "colab": {
          "base_uri": "https://localhost:8080/",
          "height": 119
        }
      },
      "source": [
        "#環境確認\n",
        "!python3 --version\n",
        "\n",
        "import pandas as pd\n",
        "print(\"pandas: \" + pd.__version__)\n",
        "\n",
        "import numpy as np\n",
        "print(\"numpy: \" + np.__version__)\n",
        "\n",
        "import sklearn\n",
        "print(\"sklearn: \" + sklearn.__version__)\n",
        "\n",
        "import matplotlib\n",
        "print(\"matplotlib: \" + matplotlib.__version__)\n",
        "\n",
        "#LightGBMライブラリ\n",
        "import lightgbm as lgb\n",
        "print(\"lightgbm: \" + lgb.__version__)"
      ],
      "execution_count": 1,
      "outputs": [
        {
          "output_type": "stream",
          "text": [
            "Python 3.6.9\n",
            "pandas: 1.0.3\n",
            "numpy: 1.18.3\n",
            "sklearn: 0.22.2.post1\n",
            "matplotlib: 3.2.1\n",
            "lightgbm: 2.2.3\n"
          ],
          "name": "stdout"
        }
      ]
    },
    {
      "cell_type": "code",
      "metadata": {
        "id": "zLO8rjzFis4Z",
        "colab_type": "code",
        "outputId": "e3d0d17e-aa56-47b7-f4a1-8a9978fdd4de",
        "colab": {
          "base_uri": "https://localhost:8080/",
          "height": 122
        }
      },
      "source": [
        "#Google Driveと連携する\n",
        "from google.colab import drive\n",
        "drive.mount('/content/drive')"
      ],
      "execution_count": 2,
      "outputs": [
        {
          "output_type": "stream",
          "text": [
            "Go to this URL in a browser: https://accounts.google.com/o/oauth2/auth?client_id=947318989803-6bn6qk8qdgf4n4g3pfee6491hc0brc4i.apps.googleusercontent.com&redirect_uri=urn%3aietf%3awg%3aoauth%3a2.0%3aoob&response_type=code&scope=email%20https%3a%2f%2fwww.googleapis.com%2fauth%2fdocs.test%20https%3a%2f%2fwww.googleapis.com%2fauth%2fdrive%20https%3a%2f%2fwww.googleapis.com%2fauth%2fdrive.photos.readonly%20https%3a%2f%2fwww.googleapis.com%2fauth%2fpeopleapi.readonly\n",
            "\n",
            "Enter your authorization code:\n",
            "··········\n",
            "Mounted at /content/drive\n"
          ],
          "name": "stdout"
        }
      ]
    },
    {
      "cell_type": "markdown",
      "metadata": {
        "id": "TuQIyAsQmDtE",
        "colab_type": "text"
      },
      "source": [
        "### データのロード"
      ]
    },
    {
      "cell_type": "code",
      "metadata": {
        "id": "ib-ZIUqlhk-Y",
        "colab_type": "code",
        "outputId": "16e56988-7d8c-466a-e27c-f0c03d4110ba",
        "colab": {
          "base_uri": "https://localhost:8080/",
          "height": 34
        }
      },
      "source": [
        "#データの読み込みと前処理\n",
        "train_data = pd.read_csv(\"/content/drive/My Drive/train_data.csv\", index_col='id')\n",
        "print(train_data.shape)"
      ],
      "execution_count": 20,
      "outputs": [
        {
          "output_type": "stream",
          "text": [
            "(19720, 16)\n"
          ],
          "name": "stdout"
        }
      ]
    },
    {
      "cell_type": "code",
      "metadata": {
        "id": "5WY6K6rgl1jN",
        "colab_type": "code",
        "outputId": "a76e77b3-5a92-4515-e802-4fbfcd0bec0e",
        "colab": {
          "base_uri": "https://localhost:8080/",
          "height": 170
        }
      },
      "source": [
        "(train_data['likes'] / train_data['y']).describe()"
      ],
      "execution_count": 21,
      "outputs": [
        {
          "output_type": "execute_result",
          "data": {
            "text/plain": [
              "count    19720.000000\n",
              "mean         0.005018\n",
              "std          0.011937\n",
              "min          0.000000\n",
              "25%          0.001294\n",
              "50%          0.002900\n",
              "75%          0.005783\n",
              "max          1.240741\n",
              "dtype: float64"
            ]
          },
          "metadata": {
            "tags": []
          },
          "execution_count": 21
        }
      ]
    },
    {
      "cell_type": "code",
      "metadata": {
        "id": "tnM5sTROl9dY",
        "colab_type": "code",
        "outputId": "a9c0604f-39a5-4fa3-ff49-270a48f0f0e6",
        "colab": {
          "base_uri": "https://localhost:8080/",
          "height": 612
        }
      },
      "source": [
        "train_data.head()"
      ],
      "execution_count": 22,
      "outputs": [
        {
          "output_type": "execute_result",
          "data": {
            "text/html": [
              "<div>\n",
              "<style scoped>\n",
              "    .dataframe tbody tr th:only-of-type {\n",
              "        vertical-align: middle;\n",
              "    }\n",
              "\n",
              "    .dataframe tbody tr th {\n",
              "        vertical-align: top;\n",
              "    }\n",
              "\n",
              "    .dataframe thead th {\n",
              "        text-align: right;\n",
              "    }\n",
              "</style>\n",
              "<table border=\"1\" class=\"dataframe\">\n",
              "  <thead>\n",
              "    <tr style=\"text-align: right;\">\n",
              "      <th></th>\n",
              "      <th>video_id</th>\n",
              "      <th>title</th>\n",
              "      <th>publishedAt</th>\n",
              "      <th>channelId</th>\n",
              "      <th>channelTitle</th>\n",
              "      <th>categoryId</th>\n",
              "      <th>collection_date</th>\n",
              "      <th>tags</th>\n",
              "      <th>likes</th>\n",
              "      <th>dislikes</th>\n",
              "      <th>comment_count</th>\n",
              "      <th>thumbnail_link</th>\n",
              "      <th>comments_disabled</th>\n",
              "      <th>ratings_disabled</th>\n",
              "      <th>description</th>\n",
              "      <th>y</th>\n",
              "    </tr>\n",
              "    <tr>\n",
              "      <th>id</th>\n",
              "      <th></th>\n",
              "      <th></th>\n",
              "      <th></th>\n",
              "      <th></th>\n",
              "      <th></th>\n",
              "      <th></th>\n",
              "      <th></th>\n",
              "      <th></th>\n",
              "      <th></th>\n",
              "      <th></th>\n",
              "      <th></th>\n",
              "      <th></th>\n",
              "      <th></th>\n",
              "      <th></th>\n",
              "      <th></th>\n",
              "      <th></th>\n",
              "    </tr>\n",
              "  </thead>\n",
              "  <tbody>\n",
              "    <tr>\n",
              "      <th>1</th>\n",
              "      <td>GDtyztIThRQ</td>\n",
              "      <td>[12] BGM Inazuma Eleven 3 - ~ライオコツト ダンジョン~</td>\n",
              "      <td>2011-01-09T05:50:33.000Z</td>\n",
              "      <td>UCQaNYC3dNvH8FqrEyK7hTJw</td>\n",
              "      <td>DjangoShiny</td>\n",
              "      <td>20</td>\n",
              "      <td>20.01.02</td>\n",
              "      <td>Inazuma|Eleven|Super|Once|bgm|ost|イナズマイレブン|Kyo...</td>\n",
              "      <td>114</td>\n",
              "      <td>0</td>\n",
              "      <td>7</td>\n",
              "      <td>https://i.ytimg.com/vi/GDtyztIThRQ/default.jpg</td>\n",
              "      <td>False</td>\n",
              "      <td>False</td>\n",
              "      <td>~ライオコツト ダンジョン~Inazuma Eleven 3 BGM Complete (R...</td>\n",
              "      <td>29229</td>\n",
              "    </tr>\n",
              "    <tr>\n",
              "      <th>2</th>\n",
              "      <td>m4H9s3GtTlQ</td>\n",
              "      <td>ねごと - メルシールー [Official Music Video]</td>\n",
              "      <td>2012-07-23T03:00:09.000Z</td>\n",
              "      <td>UChMWDi-HBm5aS3jyRSaAWUA</td>\n",
              "      <td>ねごと Official Channel</td>\n",
              "      <td>10</td>\n",
              "      <td>20.08.02</td>\n",
              "      <td>ねごと|ネゴト|メルシールー|Re:myend|リマインド|Lightdentity|ライデ...</td>\n",
              "      <td>2885</td>\n",
              "      <td>50</td>\n",
              "      <td>111</td>\n",
              "      <td>https://i.ytimg.com/vi/m4H9s3GtTlQ/default.jpg</td>\n",
              "      <td>False</td>\n",
              "      <td>False</td>\n",
              "      <td>http://www.negoto.com/全員平成生まれ、蒼山幸子（Vo＆Key)、沙田瑞...</td>\n",
              "      <td>730280</td>\n",
              "    </tr>\n",
              "    <tr>\n",
              "      <th>3</th>\n",
              "      <td>z19zYZuLuEU</td>\n",
              "      <td>VF3tb 闇よだれvsちび太 (SEGA)</td>\n",
              "      <td>2007-07-26T13:54:09.000Z</td>\n",
              "      <td>UCBdcyoZSt5HBLd_n6we-xIg</td>\n",
              "      <td>siropai</td>\n",
              "      <td>24</td>\n",
              "      <td>20.14.01</td>\n",
              "      <td>VF3|VF4|VF5|ちび太|闇よだれ|chibita|virtuafighter|seg...</td>\n",
              "      <td>133</td>\n",
              "      <td>17</td>\n",
              "      <td>14</td>\n",
              "      <td>https://i.ytimg.com/vi/z19zYZuLuEU/default.jpg</td>\n",
              "      <td>False</td>\n",
              "      <td>False</td>\n",
              "      <td>Beat-tribe cup finalhttp://ameblo.jp/siropai/</td>\n",
              "      <td>80667</td>\n",
              "    </tr>\n",
              "    <tr>\n",
              "      <th>4</th>\n",
              "      <td>pmcIOsL7s98</td>\n",
              "      <td>free frosty weekend!</td>\n",
              "      <td>2005-05-15T02:38:43.000Z</td>\n",
              "      <td>UC7K5am1UAQEsCRhzXpi9i1g</td>\n",
              "      <td>Jones4Carrie</td>\n",
              "      <td>22</td>\n",
              "      <td>19.22.12</td>\n",
              "      <td>frosty</td>\n",
              "      <td>287</td>\n",
              "      <td>51</td>\n",
              "      <td>173</td>\n",
              "      <td>https://i.ytimg.com/vi/pmcIOsL7s98/default.jpg</td>\n",
              "      <td>False</td>\n",
              "      <td>False</td>\n",
              "      <td>I look so bad  but look at me!</td>\n",
              "      <td>34826</td>\n",
              "    </tr>\n",
              "    <tr>\n",
              "      <th>5</th>\n",
              "      <td>ZuQgsTcuM-4</td>\n",
              "      <td>トップ・オブ・ザ・ワールド</td>\n",
              "      <td>2007-09-09T09:52:47.000Z</td>\n",
              "      <td>UCTW1um4R-QWa8iIfITGvlZQ</td>\n",
              "      <td>Tatsuya Maruyama</td>\n",
              "      <td>10</td>\n",
              "      <td>20.08.01</td>\n",
              "      <td>ギター|guitar|南澤大介|トップオブザワールド|トップ|オブ|ワールド|カーペンターズ...</td>\n",
              "      <td>178</td>\n",
              "      <td>6</td>\n",
              "      <td>17</td>\n",
              "      <td>https://i.ytimg.com/vi/ZuQgsTcuM-4/default.jpg</td>\n",
              "      <td>False</td>\n",
              "      <td>False</td>\n",
              "      <td>ソロギターのしらべより「トップオブザワールド」です。クラシックギターで弾いてます。Offic...</td>\n",
              "      <td>172727</td>\n",
              "    </tr>\n",
              "  </tbody>\n",
              "</table>\n",
              "</div>"
            ],
            "text/plain": [
              "       video_id  ...       y\n",
              "id               ...        \n",
              "1   GDtyztIThRQ  ...   29229\n",
              "2   m4H9s3GtTlQ  ...  730280\n",
              "3   z19zYZuLuEU  ...   80667\n",
              "4   pmcIOsL7s98  ...   34826\n",
              "5   ZuQgsTcuM-4  ...  172727\n",
              "\n",
              "[5 rows x 16 columns]"
            ]
          },
          "metadata": {
            "tags": []
          },
          "execution_count": 22
        }
      ]
    },
    {
      "cell_type": "markdown",
      "metadata": {
        "id": "xthV9ID2mH7L",
        "colab_type": "text"
      },
      "source": [
        "### データの確認と前処理"
      ]
    },
    {
      "cell_type": "code",
      "metadata": {
        "id": "waxBCGBBmMoj",
        "colab_type": "code",
        "outputId": "268585db-6d73-472b-f187-4b0fa0a05569",
        "colab": {
          "base_uri": "https://localhost:8080/",
          "height": 465
        }
      },
      "source": [
        "%matplotlib inline\n",
        "import matplotlib.pyplot as plt\n",
        "plt.hist(train_data['y'], bins=20, log=True)"
      ],
      "execution_count": 23,
      "outputs": [
        {
          "output_type": "execute_result",
          "data": {
            "text/plain": [
              "(array([1.9624e+04, 5.4000e+01, 1.3000e+01, 8.0000e+00, 6.0000e+00,\n",
              "        4.0000e+00, 4.0000e+00, 2.0000e+00, 0.0000e+00, 3.0000e+00,\n",
              "        0.0000e+00, 0.0000e+00, 1.0000e+00, 0.0000e+00, 0.0000e+00,\n",
              "        0.0000e+00, 0.0000e+00, 0.0000e+00, 0.0000e+00, 1.0000e+00]),\n",
              " array([2.00000000e+00, 1.07128023e+08, 2.14256043e+08, 3.21384064e+08,\n",
              "        4.28512085e+08, 5.35640106e+08, 6.42768126e+08, 7.49896147e+08,\n",
              "        8.57024168e+08, 9.64152188e+08, 1.07128021e+09, 1.17840823e+09,\n",
              "        1.28553625e+09, 1.39266427e+09, 1.49979229e+09, 1.60692031e+09,\n",
              "        1.71404833e+09, 1.82117635e+09, 1.92830437e+09, 2.03543240e+09,\n",
              "        2.14256042e+09]),\n",
              " <a list of 20 Patch objects>)"
            ]
          },
          "metadata": {
            "tags": []
          },
          "execution_count": 23
        },
        {
          "output_type": "display_data",
          "data": {
            "image/png": "[encoded data removed]",
            "text/plain": [
              "<Figure size 432x288 with 1 Axes>"
            ]
          },
          "metadata": {
            "tags": [],
            "needs_background": "light"
          }
        }
      ]
    },
    {
      "cell_type": "code",
      "metadata": {
        "id": "lBwx11s4m0W0",
        "colab_type": "code",
        "outputId": "b7c57a18-d2ed-45ca-9545-1e21b9960a07",
        "colab": {
          "base_uri": "https://localhost:8080/",
          "height": 465
        }
      },
      "source": [
        "#外れ値除外\n",
        "#回帰モデルに悪影響を及ぼす恐れのある上位1%を除去する\n",
        "train_data = train_data[train_data[\"y\"] < np.percentile(train_data['y'], 99)]\n",
        "train_data.reset_index(drop=True)\n",
        "plt.hist(train_data['y'], bins=20, log=True)"
      ],
      "execution_count": 24,
      "outputs": [
        {
          "output_type": "execute_result",
          "data": {
            "text/plain": [
              "(array([1.684e+04, 1.220e+03, 5.270e+02, 2.360e+02, 1.710e+02, 1.070e+02,\n",
              "        8.000e+01, 6.300e+01, 6.100e+01, 3.600e+01, 2.700e+01, 3.800e+01,\n",
              "        2.900e+01, 1.200e+01, 1.900e+01, 1.100e+01, 1.600e+01, 4.000e+00,\n",
              "        1.100e+01, 1.400e+01]),\n",
              " array([2.0000000e+00, 2.8219590e+06, 5.6439160e+06, 8.4658730e+06,\n",
              "        1.1287830e+07, 1.4109787e+07, 1.6931744e+07, 1.9753701e+07,\n",
              "        2.2575658e+07, 2.5397615e+07, 2.8219572e+07, 3.1041529e+07,\n",
              "        3.3863486e+07, 3.6685443e+07, 3.9507400e+07, 4.2329357e+07,\n",
              "        4.5151314e+07, 4.7973271e+07, 5.0795228e+07, 5.3617185e+07,\n",
              "        5.6439142e+07]),\n",
              " <a list of 20 Patch objects>)"
            ]
          },
          "metadata": {
            "tags": []
          },
          "execution_count": 24
        },
        {
          "output_type": "display_data",
          "data": {
            "image/png": "[encoded data removed]",
            "text/plain": [
              "<Figure size 432x288 with 1 Axes>"
            ]
          },
          "metadata": {
            "tags": [],
            "needs_background": "light"
          }
        }
      ]
    },
    {
      "cell_type": "code",
      "metadata": {
        "id": "UMCl1suHnZvf",
        "colab_type": "code",
        "outputId": "a6dc541e-a760-49a2-a8d4-4cad7ef4f5b2",
        "colab": {
          "base_uri": "https://localhost:8080/",
          "height": 408
        }
      },
      "source": [
        "#欠損値以外(non-null)の含有率の確認\n",
        "train_data.info()"
      ],
      "execution_count": 25,
      "outputs": [
        {
          "output_type": "stream",
          "text": [
            "<class 'pandas.core.frame.DataFrame'>\n",
            "Int64Index: 19522 entries, 1 to 19720\n",
            "Data columns (total 16 columns):\n",
            " #   Column             Non-Null Count  Dtype \n",
            "---  ------             --------------  ----- \n",
            " 0   video_id           19522 non-null  object\n",
            " 1   title              19522 non-null  object\n",
            " 2   publishedAt        19522 non-null  object\n",
            " 3   channelId          19522 non-null  object\n",
            " 4   channelTitle       19522 non-null  object\n",
            " 5   categoryId         19522 non-null  int64 \n",
            " 6   collection_date    19522 non-null  object\n",
            " 7   tags               19521 non-null  object\n",
            " 8   likes              19522 non-null  int64 \n",
            " 9   dislikes           19522 non-null  int64 \n",
            " 10  comment_count      19522 non-null  int64 \n",
            " 11  thumbnail_link     19522 non-null  object\n",
            " 12  comments_disabled  19522 non-null  bool  \n",
            " 13  ratings_disabled   19522 non-null  bool  \n",
            " 14  description        19210 non-null  object\n",
            " 15  y                  19522 non-null  int64 \n",
            "dtypes: bool(2), int64(5), object(9)\n",
            "memory usage: 2.3+ MB\n"
          ],
          "name": "stdout"
        }
      ]
    },
    {
      "cell_type": "code",
      "metadata": {
        "id": "ihMg0Dp2nzNz",
        "colab_type": "code",
        "colab": {}
      },
      "source": [
        "#Object -> Int64\n",
        "train_data['publishedAt'] =  pd.to_datetime(train_data['publishedAt']).map(pd.Timestamp.to_julian_date)"
      ],
      "execution_count": 0,
      "outputs": []
    },
    {
      "cell_type": "code",
      "metadata": {
        "id": "3z_aSTAnn9dT",
        "colab_type": "code",
        "outputId": "945988b1-077a-4de8-9505-ac9dcfead7d6",
        "colab": {
          "base_uri": "https://localhost:8080/",
          "height": 297
        }
      },
      "source": [
        "#数値データの正規化\n",
        "#平均0、標準偏差1になるように変換を行う\n",
        "l = ['likes', 'dislikes', 'comment_count', 'publishedAt']\n",
        "for name in l:\n",
        "    mean = np.nanmean(train_data[name], axis=0)\n",
        "    std = np.nanstd(train_data[name], axis=0)\n",
        "    train_data[name] = (train_data[name] - mean)/std\n",
        "train_data.describe()"
      ],
      "execution_count": 27,
      "outputs": [
        {
          "output_type": "execute_result",
          "data": {
            "text/html": [
              "<div>\n",
              "<style scoped>\n",
              "    .dataframe tbody tr th:only-of-type {\n",
              "        vertical-align: middle;\n",
              "    }\n",
              "\n",
              "    .dataframe tbody tr th {\n",
              "        vertical-align: top;\n",
              "    }\n",
              "\n",
              "    .dataframe thead th {\n",
              "        text-align: right;\n",
              "    }\n",
              "</style>\n",
              "<table border=\"1\" class=\"dataframe\">\n",
              "  <thead>\n",
              "    <tr style=\"text-align: right;\">\n",
              "      <th></th>\n",
              "      <th>publishedAt</th>\n",
              "      <th>categoryId</th>\n",
              "      <th>likes</th>\n",
              "      <th>dislikes</th>\n",
              "      <th>comment_count</th>\n",
              "      <th>y</th>\n",
              "    </tr>\n",
              "  </thead>\n",
              "  <tbody>\n",
              "    <tr>\n",
              "      <th>count</th>\n",
              "      <td>1.952200e+04</td>\n",
              "      <td>19522.000000</td>\n",
              "      <td>1.952200e+04</td>\n",
              "      <td>1.952200e+04</td>\n",
              "      <td>1.952200e+04</td>\n",
              "      <td>1.952200e+04</td>\n",
              "    </tr>\n",
              "    <tr>\n",
              "      <th>mean</th>\n",
              "      <td>7.646334e-14</td>\n",
              "      <td>15.910306</td>\n",
              "      <td>-2.751388e-17</td>\n",
              "      <td>-6.533764e-17</td>\n",
              "      <td>3.703397e-16</td>\n",
              "      <td>1.803871e+06</td>\n",
              "    </tr>\n",
              "    <tr>\n",
              "      <th>std</th>\n",
              "      <td>1.000026e+00</td>\n",
              "      <td>8.684912</td>\n",
              "      <td>1.000026e+00</td>\n",
              "      <td>1.000026e+00</td>\n",
              "      <td>1.000026e+00</td>\n",
              "      <td>4.918672e+06</td>\n",
              "    </tr>\n",
              "    <tr>\n",
              "      <th>min</th>\n",
              "      <td>-1.605412e+00</td>\n",
              "      <td>1.000000</td>\n",
              "      <td>-2.900779e-01</td>\n",
              "      <td>-2.214770e-01</td>\n",
              "      <td>-2.411631e-01</td>\n",
              "      <td>2.000000e+00</td>\n",
              "    </tr>\n",
              "    <tr>\n",
              "      <th>25%</th>\n",
              "      <td>-9.378234e-01</td>\n",
              "      <td>10.000000</td>\n",
              "      <td>-2.872672e-01</td>\n",
              "      <td>-2.195250e-01</td>\n",
              "      <td>-2.398220e-01</td>\n",
              "      <td>6.824225e+04</td>\n",
              "    </tr>\n",
              "    <tr>\n",
              "      <th>50%</th>\n",
              "      <td>-2.145848e-02</td>\n",
              "      <td>17.000000</td>\n",
              "      <td>-2.680869e-01</td>\n",
              "      <td>-2.053736e-01</td>\n",
              "      <td>-2.254058e-01</td>\n",
              "      <td>3.058175e+05</td>\n",
              "    </tr>\n",
              "    <tr>\n",
              "      <th>75%</th>\n",
              "      <td>9.248891e-01</td>\n",
              "      <td>24.000000</td>\n",
              "      <td>-1.403091e-01</td>\n",
              "      <td>-1.302243e-01</td>\n",
              "      <td>-1.342151e-01</td>\n",
              "      <td>1.255392e+06</td>\n",
              "    </tr>\n",
              "    <tr>\n",
              "      <th>max</th>\n",
              "      <td>1.754030e+00</td>\n",
              "      <td>44.000000</td>\n",
              "      <td>2.605187e+01</td>\n",
              "      <td>3.817687e+01</td>\n",
              "      <td>3.574564e+01</td>\n",
              "      <td>5.643914e+07</td>\n",
              "    </tr>\n",
              "  </tbody>\n",
              "</table>\n",
              "</div>"
            ],
            "text/plain": [
              "        publishedAt    categoryId  ...  comment_count             y\n",
              "count  1.952200e+04  19522.000000  ...   1.952200e+04  1.952200e+04\n",
              "mean   7.646334e-14     15.910306  ...   3.703397e-16  1.803871e+06\n",
              "std    1.000026e+00      8.684912  ...   1.000026e+00  4.918672e+06\n",
              "min   -1.605412e+00      1.000000  ...  -2.411631e-01  2.000000e+00\n",
              "25%   -9.378234e-01     10.000000  ...  -2.398220e-01  6.824225e+04\n",
              "50%   -2.145848e-02     17.000000  ...  -2.254058e-01  3.058175e+05\n",
              "75%    9.248891e-01     24.000000  ...  -1.342151e-01  1.255392e+06\n",
              "max    1.754030e+00     44.000000  ...   3.574564e+01  5.643914e+07\n",
              "\n",
              "[8 rows x 6 columns]"
            ]
          },
          "metadata": {
            "tags": []
          },
          "execution_count": 27
        }
      ]
    },
    {
      "cell_type": "markdown",
      "metadata": {
        "id": "hnY_kdvEoR1O",
        "colab_type": "text"
      },
      "source": [
        "### 予測モデルの作成/学習"
      ]
    },
    {
      "cell_type": "code",
      "metadata": {
        "id": "bNcQjjr9oVpG",
        "colab_type": "code",
        "colab": {}
      },
      "source": [
        "#使用する説明変数・目的変数を代入\n",
        "model_input = train_data[['categoryId', 'likes', 'dislikes', 'comment_count', 'publishedAt', 'y']]\n",
        "\n",
        "#説明変数・目的変数についてnull値を含むレコードを除外\n",
        "model_input = model_input.dropna(how='any', axis=0) \n",
        "\n",
        "#訓練データと検証データに分割\n",
        "from sklearn.model_selection import train_test_split\n",
        "train_set, eval_set = train_test_split(model_input, test_size=0.2, random_state=3)\n",
        "\n",
        "# 目的変数と説明変数を代入\n",
        "X_train = train_set[['categoryId', 'likes', 'dislikes', 'comment_count', 'publishedAt']]\n",
        "y_train = np.log(train_set['y'])\n",
        "X_eval = eval_set[['categoryId', 'likes', 'dislikes', 'comment_count', 'publishedAt']]\n",
        "y_eval = np.log(eval_set['y'])"
      ],
      "execution_count": 0,
      "outputs": []
    },
    {
      "cell_type": "code",
      "metadata": {
        "id": "IEtX7ldqodmg",
        "colab_type": "code",
        "colab": {}
      },
      "source": [
        "# one hot表現へ変換\n",
        "X_train = pd.get_dummies(X_train, columns=['categoryId'], drop_first=True)\n",
        "X_eval = pd.get_dummies(X_eval, columns=['categoryId'], drop_first=True)"
      ],
      "execution_count": 0,
      "outputs": []
    },
    {
      "cell_type": "code",
      "metadata": {
        "id": "uiPBmo7bC4L4",
        "colab_type": "code",
        "colab": {}
      },
      "source": [
        "# カラム数を統一するため、X_trainとX_evalで一致していないカラムを検出して削除する\n",
        "X_train =X_train.drop('categoryId_44',axis=1)"
      ],
      "execution_count": 0,
      "outputs": []
    },
    {
      "cell_type": "code",
      "metadata": {
        "id": "D3KWbs-Jodiq",
        "colab_type": "code",
        "outputId": "71c10cef-580e-4fc6-f731-626fa08f1d20",
        "colab": {
          "base_uri": "https://localhost:8080/",
          "height": 153
        }
      },
      "source": [
        "#説明変数と目的変数を「LightGBM用のデータセット」に加工します。\n",
        "lgb_train = lgb.Dataset(X_train, y_train)\n",
        "lgb_eval = lgb.Dataset(X_eval, y_eval)\n",
        "\n",
        "#LightGBMの挙動を決める「ハイパーパラメータ」を設定\n",
        "params = {'boosting_type': 'gbdt',\n",
        "          'objective': 'regression',\n",
        "          'metric': 'rmse',\n",
        "          'max_depth' : 9}\n",
        "\n",
        "#予測モデルの作成\n",
        "model = lgb.train(params,\n",
        "                lgb_train,\n",
        "                num_boost_round=10000,\n",
        "                valid_sets=lgb_eval,\n",
        "                early_stopping_rounds=100,\n",
        "                verbose_eval=50)"
      ],
      "execution_count": 41,
      "outputs": [
        {
          "output_type": "stream",
          "text": [
            "Training until validation scores don't improve for 100 rounds.\n",
            "[50]\tvalid_0's rmse: 0.936746\n",
            "[100]\tvalid_0's rmse: 0.924655\n",
            "[150]\tvalid_0's rmse: 0.920275\n",
            "[200]\tvalid_0's rmse: 0.9199\n",
            "[250]\tvalid_0's rmse: 0.919623\n",
            "Early stopping, best iteration is:\n",
            "[168]\tvalid_0's rmse: 0.918675\n"
          ],
          "name": "stdout"
        }
      ]
    },
    {
      "cell_type": "markdown",
      "metadata": {
        "id": "hG_7yedPqBHa",
        "colab_type": "text"
      },
      "source": [
        "### テストデータに対する出力"
      ]
    },
    {
      "cell_type": "code",
      "metadata": {
        "id": "R0p_qHEhqGiZ",
        "colab_type": "code",
        "outputId": "73a5c332-b9b0-4e17-85c1-845fc917a134",
        "colab": {
          "base_uri": "https://localhost:8080/",
          "height": 629
        }
      },
      "source": [
        "test_data = pd.read_csv(\"/content/drive/My Drive/test_data.csv\", index_col='id')\n",
        "test_data.head()"
      ],
      "execution_count": 46,
      "outputs": [
        {
          "output_type": "execute_result",
          "data": {
            "text/html": [
              "<div>\n",
              "<style scoped>\n",
              "    .dataframe tbody tr th:only-of-type {\n",
              "        vertical-align: middle;\n",
              "    }\n",
              "\n",
              "    .dataframe tbody tr th {\n",
              "        vertical-align: top;\n",
              "    }\n",
              "\n",
              "    .dataframe thead th {\n",
              "        text-align: right;\n",
              "    }\n",
              "</style>\n",
              "<table border=\"1\" class=\"dataframe\">\n",
              "  <thead>\n",
              "    <tr style=\"text-align: right;\">\n",
              "      <th></th>\n",
              "      <th>video_id</th>\n",
              "      <th>title</th>\n",
              "      <th>publishedAt</th>\n",
              "      <th>channelId</th>\n",
              "      <th>channelTitle</th>\n",
              "      <th>categoryId</th>\n",
              "      <th>collection_date</th>\n",
              "      <th>tags</th>\n",
              "      <th>likes</th>\n",
              "      <th>dislikes</th>\n",
              "      <th>comment_count</th>\n",
              "      <th>thumbnail_link</th>\n",
              "      <th>comments_disabled</th>\n",
              "      <th>ratings_disabled</th>\n",
              "      <th>description</th>\n",
              "    </tr>\n",
              "    <tr>\n",
              "      <th>id</th>\n",
              "      <th></th>\n",
              "      <th></th>\n",
              "      <th></th>\n",
              "      <th></th>\n",
              "      <th></th>\n",
              "      <th></th>\n",
              "      <th></th>\n",
              "      <th></th>\n",
              "      <th></th>\n",
              "      <th></th>\n",
              "      <th></th>\n",
              "      <th></th>\n",
              "      <th></th>\n",
              "      <th></th>\n",
              "      <th></th>\n",
              "    </tr>\n",
              "  </thead>\n",
              "  <tbody>\n",
              "    <tr>\n",
              "      <th>1</th>\n",
              "      <td>xU8UcB6RbLE</td>\n",
              "      <td>Frightened Rabbit - The Greys</td>\n",
              "      <td>2007-09-26T11:00:07.000Z</td>\n",
              "      <td>UCOQ_j8Qg4-p0lGKBpXYENbg</td>\n",
              "      <td>Fatcat Records</td>\n",
              "      <td>10</td>\n",
              "      <td>20.08.01</td>\n",
              "      <td>Fatcat|Records|Frightened|Rabbit|The|Greys</td>\n",
              "      <td>471</td>\n",
              "      <td>38</td>\n",
              "      <td>61</td>\n",
              "      <td>https://i.ytimg.com/vi/xU8UcB6RbLE/default.jpg</td>\n",
              "      <td>False</td>\n",
              "      <td>False</td>\n",
              "      <td>Director: Fraser CampbellDate:2007Taken from F...</td>\n",
              "    </tr>\n",
              "    <tr>\n",
              "      <th>2</th>\n",
              "      <td>ENuB3qHCp0s</td>\n",
              "      <td>Eダンスアカデミー『EXダンス体操（EXILEのダンス体操）』</td>\n",
              "      <td>2016-05-27T15:00:00.000Z</td>\n",
              "      <td>UCip8ve30-AoX2y2OtAAmqFA</td>\n",
              "      <td>NHK</td>\n",
              "      <td>24</td>\n",
              "      <td>20.09.02</td>\n",
              "      <td>Ｅダンス|Ｅアカ|EXILE|EXダンス体操|ダンス体操|EX体操|エクササイズ、GENER...</td>\n",
              "      <td>6797</td>\n",
              "      <td>666</td>\n",
              "      <td>0</td>\n",
              "      <td>https://i.ytimg.com/vi/ENuB3qHCp0s/default.jpg</td>\n",
              "      <td>True</td>\n",
              "      <td>False</td>\n",
              "      <td>EXILEがダンスを楽しく分かりやすくレッスンする「Eダンスアカデミー」毎週金曜日に放送中！...</td>\n",
              "    </tr>\n",
              "    <tr>\n",
              "      <th>3</th>\n",
              "      <td>2eIeMPhXhSQ</td>\n",
              "      <td>『Lover Come Back To Me』 大西由希子×川口千里(Senri Kawag...</td>\n",
              "      <td>2012-12-10T08:24:57.000Z</td>\n",
              "      <td>UCZyaEXqC4i3ni68duKOg6JA</td>\n",
              "      <td>atossinternational</td>\n",
              "      <td>10</td>\n",
              "      <td>20.03.02</td>\n",
              "      <td>大西由希子|岩永真奈|川口千里|教則|長崎祥子|ジャズ|ユッコミラー|atossintern...</td>\n",
              "      <td>3371</td>\n",
              "      <td>111</td>\n",
              "      <td>212</td>\n",
              "      <td>https://i.ytimg.com/vi/2eIeMPhXhSQ/default.jpg</td>\n",
              "      <td>False</td>\n",
              "      <td>False</td>\n",
              "      <td>教則DVD『アドリブ・サックス・パーフェクト・マスター』収録の究極のギャルバンによるスタジオ...</td>\n",
              "    </tr>\n",
              "    <tr>\n",
              "      <th>4</th>\n",
              "      <td>yXfmnY6QIOc</td>\n",
              "      <td>konnkonn雛たち大きくなりました☆</td>\n",
              "      <td>2012-02-27T05:23:46.000Z</td>\n",
              "      <td>UCyeDXVF4epn-ed3c3ckyhOQ</td>\n",
              "      <td>cpj54293</td>\n",
              "      <td>15</td>\n",
              "      <td>20.02.02</td>\n",
              "      <td>オカメインコひな</td>\n",
              "      <td>508</td>\n",
              "      <td>16</td>\n",
              "      <td>23</td>\n",
              "      <td>https://i.ytimg.com/vi/yXfmnY6QIOc/default.jpg</td>\n",
              "      <td>False</td>\n",
              "      <td>False</td>\n",
              "      <td>オカメインコのひなたち約生後３９日です鳴き声が変わりましたジィージィーの中にピィッ！ピィッ！...</td>\n",
              "    </tr>\n",
              "    <tr>\n",
              "      <th>5</th>\n",
              "      <td>dGbHHMKYGkw</td>\n",
              "      <td>Anouk - Everything, Live cover by RU kiddin me</td>\n",
              "      <td>2007-11-24T15:18:04.000Z</td>\n",
              "      <td>UCnOICsYtfygl--dfI9kclVQ</td>\n",
              "      <td>Vinzarelli</td>\n",
              "      <td>10</td>\n",
              "      <td>20.10.01</td>\n",
              "      <td>Anouk|Everything|live|cover|tribute</td>\n",
              "      <td>0</td>\n",
              "      <td>1</td>\n",
              "      <td>0</td>\n",
              "      <td>https://i.ytimg.com/vi/dGbHHMKYGkw/default.jpg</td>\n",
              "      <td>False</td>\n",
              "      <td>False</td>\n",
              "      <td>Anouk tribute band RU kiddin me covers Everyth...</td>\n",
              "    </tr>\n",
              "  </tbody>\n",
              "</table>\n",
              "</div>"
            ],
            "text/plain": [
              "       video_id  ...                                        description\n",
              "id               ...                                                   \n",
              "1   xU8UcB6RbLE  ...  Director: Fraser CampbellDate:2007Taken from F...\n",
              "2   ENuB3qHCp0s  ...  EXILEがダンスを楽しく分かりやすくレッスンする「Eダンスアカデミー」毎週金曜日に放送中！...\n",
              "3   2eIeMPhXhSQ  ...  教則DVD『アドリブ・サックス・パーフェクト・マスター』収録の究極のギャルバンによるスタジオ...\n",
              "4   yXfmnY6QIOc  ...  オカメインコのひなたち約生後３９日です鳴き声が変わりましたジィージィーの中にピィッ！ピィッ！...\n",
              "5   dGbHHMKYGkw  ...  Anouk tribute band RU kiddin me covers Everyth...\n",
              "\n",
              "[5 rows x 15 columns]"
            ]
          },
          "metadata": {
            "tags": []
          },
          "execution_count": 46
        }
      ]
    },
    {
      "cell_type": "code",
      "metadata": {
        "id": "rVQtDcP1qTBv",
        "colab_type": "code",
        "colab": {}
      },
      "source": [
        "test_data['publishedAt'] =  pd.to_datetime(test_data['publishedAt']).map(pd.Timestamp.to_julian_date)"
      ],
      "execution_count": 0,
      "outputs": []
    },
    {
      "cell_type": "code",
      "metadata": {
        "id": "eUB_cbTWqXMq",
        "colab_type": "code",
        "outputId": "a4213a2b-9f73-4257-904e-69816170bcae",
        "colab": {
          "base_uri": "https://localhost:8080/",
          "height": 297
        }
      },
      "source": [
        "l = ['likes', 'dislikes', 'comment_count', 'publishedAt']\n",
        "for name in l:\n",
        "    mean = np.nanmean(test_data[name], axis=0)\n",
        "    std = np.nanstd(test_data[name], axis=0)\n",
        "    test_data[name] = (test_data[name] - mean)/std\n",
        "test_data.describe()"
      ],
      "execution_count": 48,
      "outputs": [
        {
          "output_type": "execute_result",
          "data": {
            "text/html": [
              "<div>\n",
              "<style scoped>\n",
              "    .dataframe tbody tr th:only-of-type {\n",
              "        vertical-align: middle;\n",
              "    }\n",
              "\n",
              "    .dataframe tbody tr th {\n",
              "        vertical-align: top;\n",
              "    }\n",
              "\n",
              "    .dataframe thead th {\n",
              "        text-align: right;\n",
              "    }\n",
              "</style>\n",
              "<table border=\"1\" class=\"dataframe\">\n",
              "  <thead>\n",
              "    <tr style=\"text-align: right;\">\n",
              "      <th></th>\n",
              "      <th>publishedAt</th>\n",
              "      <th>categoryId</th>\n",
              "      <th>likes</th>\n",
              "      <th>dislikes</th>\n",
              "      <th>comment_count</th>\n",
              "    </tr>\n",
              "  </thead>\n",
              "  <tbody>\n",
              "    <tr>\n",
              "      <th>count</th>\n",
              "      <td>2.958200e+04</td>\n",
              "      <td>29582.000000</td>\n",
              "      <td>2.958200e+04</td>\n",
              "      <td>2.958200e+04</td>\n",
              "      <td>2.958200e+04</td>\n",
              "    </tr>\n",
              "    <tr>\n",
              "      <th>mean</th>\n",
              "      <td>-1.052652e-13</td>\n",
              "      <td>15.863667</td>\n",
              "      <td>-1.240533e-16</td>\n",
              "      <td>1.780731e-16</td>\n",
              "      <td>3.154502e-16</td>\n",
              "    </tr>\n",
              "    <tr>\n",
              "      <th>std</th>\n",
              "      <td>1.000017e+00</td>\n",
              "      <td>8.670842</td>\n",
              "      <td>1.000017e+00</td>\n",
              "      <td>1.000017e+00</td>\n",
              "      <td>1.000017e+00</td>\n",
              "    </tr>\n",
              "    <tr>\n",
              "      <th>min</th>\n",
              "      <td>-1.611338e+00</td>\n",
              "      <td>1.000000</td>\n",
              "      <td>-1.391489e-01</td>\n",
              "      <td>-6.680798e-02</td>\n",
              "      <td>-1.563839e-01</td>\n",
              "    </tr>\n",
              "    <tr>\n",
              "      <th>25%</th>\n",
              "      <td>-9.275596e-01</td>\n",
              "      <td>10.000000</td>\n",
              "      <td>-1.382193e-01</td>\n",
              "      <td>-6.639529e-02</td>\n",
              "      <td>-1.557679e-01</td>\n",
              "    </tr>\n",
              "    <tr>\n",
              "      <th>50%</th>\n",
              "      <td>-2.663144e-02</td>\n",
              "      <td>17.000000</td>\n",
              "      <td>-1.322320e-01</td>\n",
              "      <td>-6.391913e-02</td>\n",
              "      <td>-1.485304e-01</td>\n",
              "    </tr>\n",
              "    <tr>\n",
              "      <th>75%</th>\n",
              "      <td>9.177797e-01</td>\n",
              "      <td>24.000000</td>\n",
              "      <td>-9.205591e-02</td>\n",
              "      <td>-5.005267e-02</td>\n",
              "      <td>-1.052589e-01</td>\n",
              "    </tr>\n",
              "    <tr>\n",
              "      <th>max</th>\n",
              "      <td>1.750811e+00</td>\n",
              "      <td>44.000000</td>\n",
              "      <td>6.588549e+01</td>\n",
              "      <td>1.369860e+02</td>\n",
              "      <td>7.579106e+01</td>\n",
              "    </tr>\n",
              "  </tbody>\n",
              "</table>\n",
              "</div>"
            ],
            "text/plain": [
              "        publishedAt    categoryId         likes      dislikes  comment_count\n",
              "count  2.958200e+04  29582.000000  2.958200e+04  2.958200e+04   2.958200e+04\n",
              "mean  -1.052652e-13     15.863667 -1.240533e-16  1.780731e-16   3.154502e-16\n",
              "std    1.000017e+00      8.670842  1.000017e+00  1.000017e+00   1.000017e+00\n",
              "min   -1.611338e+00      1.000000 -1.391489e-01 -6.680798e-02  -1.563839e-01\n",
              "25%   -9.275596e-01     10.000000 -1.382193e-01 -6.639529e-02  -1.557679e-01\n",
              "50%   -2.663144e-02     17.000000 -1.322320e-01 -6.391913e-02  -1.485304e-01\n",
              "75%    9.177797e-01     24.000000 -9.205591e-02 -5.005267e-02  -1.052589e-01\n",
              "max    1.750811e+00     44.000000  6.588549e+01  1.369860e+02   7.579106e+01"
            ]
          },
          "metadata": {
            "tags": []
          },
          "execution_count": 48
        }
      ]
    },
    {
      "cell_type": "code",
      "metadata": {
        "id": "A9DmZuSdqbLj",
        "colab_type": "code",
        "colab": {}
      },
      "source": [
        "#使用する説明変数・目的変数を代入\n",
        "model_input_test = test_data[['categoryId', 'likes', 'dislikes', 'comment_count', 'publishedAt']]\n",
        "\n",
        "#説明変数・目的変数についてnull値を含むレコードを除外\n",
        "model_input_test = model_input_test.dropna(how='any', axis=0) \n",
        "\n",
        "# 目的変数と説明変数を代入\n",
        "X_test = model_input_test"
      ],
      "execution_count": 0,
      "outputs": []
    },
    {
      "cell_type": "code",
      "metadata": {
        "id": "AOiAWQCaqg_l",
        "colab_type": "code",
        "colab": {}
      },
      "source": [
        "# one hot表現へ変換\n",
        "X_test = pd.get_dummies(X_test, columns=['categoryId'], drop_first=True)"
      ],
      "execution_count": 0,
      "outputs": []
    },
    {
      "cell_type": "code",
      "metadata": {
        "id": "OtwnocfnrIwZ",
        "colab_type": "code",
        "colab": {}
      },
      "source": [
        "#共通の説明変数のみに学習、テストデータのカラムを統一\n",
        "# X_test =X_test.drop('categoryId_43',axis=1)\n",
        "# X_test =X_test.drop('categoryId_44',axis=1)\n",
        "\n",
        "#テスト結果の出力\n",
        "test_predicted = np.exp(model.predict(X_test))\n",
        "submit_df = pd.DataFrame({'y': test_predicted})\n",
        "submit_df.index.name = 'id'\n",
        "submit_df.to_csv('submission.csv')"
      ],
      "execution_count": 0,
      "outputs": []
    },
    {
      "cell_type": "code",
      "metadata": {
        "id": "qU8G9aJkrMzD",
        "colab_type": "code",
        "outputId": "2579db9f-81b8-4a4d-a401-db02fec76e25",
        "colab": {
          "base_uri": "https://localhost:8080/",
          "height": 34
        }
      },
      "source": [
        "#出力ファイルをローカルにダウンロード\n",
        "!ls\n",
        "\n",
        "from google.colab import files\n",
        "files.download('submission.csv')"
      ],
      "execution_count": 58,
      "outputs": [
        {
          "output_type": "stream",
          "text": [
            "drive  sample_data  submission.csv\n"
          ],
          "name": "stdout"
        }
      ]
    },
    {
      "cell_type": "markdown",
      "metadata": {
        "id": "wpIezM7TsPCo",
        "colab_type": "text"
      },
      "source": [
        "### 誤差の大きなデータの確認"
      ]
    },
    {
      "cell_type": "code",
      "metadata": {
        "id": "uNaonC8jsR5I",
        "colab_type": "code",
        "outputId": "14dba988-ce44-4b86-bd1d-1e5d2de7f702",
        "colab": {
          "base_uri": "https://localhost:8080/",
          "height": 439
        }
      },
      "source": [
        "plt.hist(np.log(y_pred+1) - np.log(y_true+1), log=True, bins=20)"
      ],
      "execution_count": 0,
      "outputs": [
        {
          "output_type": "execute_result",
          "data": {
            "text/plain": [
              "(array([3.200e+01, 8.820e+02, 5.119e+03, 7.204e+03, 3.960e+03, 1.487e+03,\n",
              "        5.660e+02, 1.920e+02, 5.900e+01, 1.400e+01, 3.000e+00, 0.000e+00,\n",
              "        2.000e+00, 0.000e+00, 0.000e+00, 1.000e+00, 0.000e+00, 0.000e+00,\n",
              "        0.000e+00, 1.000e+00]),\n",
              " array([-5.95858436, -4.32620805, -2.69383174, -1.06145543,  0.57092088,\n",
              "         2.20329719,  3.8356735 ,  5.46804981,  7.10042612,  8.73280243,\n",
              "        10.36517874, 11.99755505, 13.62993136, 15.26230767, 16.89468398,\n",
              "        18.52706029, 20.1594366 , 21.79181291, 23.42418922, 25.05656553,\n",
              "        26.68894184]),\n",
              " <a list of 20 Patch objects>)"
            ]
          },
          "metadata": {
            "tags": []
          },
          "execution_count": 37
        },
        {
          "output_type": "display_data",
          "data": {
            "image/png": "[encoded data removed]",
            "text/plain": [
              "<Figure size 432x288 with 1 Axes>"
            ]
          },
          "metadata": {
            "tags": [],
            "needs_background": "light"
          }
        }
      ]
    },
    {
      "cell_type": "code",
      "metadata": {
        "id": "apR43r8QsVyn",
        "colab_type": "code",
        "outputId": "3aef55f1-3302-426f-84a6-f1fb55e3149b",
        "colab": {
          "base_uri": "https://localhost:8080/",
          "height": 34
        }
      },
      "source": [
        "#誤差の絶対値が15を超えるデータの一覧\n",
        "threshold = 15\n",
        "wrong_idx_lower = np.where(np.log(y_pred+1) - np.log(y_true+1) > threshold)[0]\n",
        "print(wrong_idx_lower)"
      ],
      "execution_count": 0,
      "outputs": [
        {
          "output_type": "stream",
          "text": [
            "[ 3361  4658 10206]\n"
          ],
          "name": "stdout"
        }
      ]
    },
    {
      "cell_type": "code",
      "metadata": {
        "id": "WQ1Fy1itsdUS",
        "colab_type": "code",
        "outputId": "0126c697-a3f1-4324-afde-151fbe3279c4",
        "colab": {
          "base_uri": "https://localhost:8080/",
          "height": 431
        }
      },
      "source": [
        "train_data.loc[wrong_idx_lower, :]\n",
        "#視聴回数を過大に評価したデータは3つ。 過小に評価したデータはありませんでした。"
      ],
      "execution_count": 0,
      "outputs": [
        {
          "output_type": "execute_result",
          "data": {
            "text/html": [
              "<div>\n",
              "<style scoped>\n",
              "    .dataframe tbody tr th:only-of-type {\n",
              "        vertical-align: middle;\n",
              "    }\n",
              "\n",
              "    .dataframe tbody tr th {\n",
              "        vertical-align: top;\n",
              "    }\n",
              "\n",
              "    .dataframe thead th {\n",
              "        text-align: right;\n",
              "    }\n",
              "</style>\n",
              "<table border=\"1\" class=\"dataframe\">\n",
              "  <thead>\n",
              "    <tr style=\"text-align: right;\">\n",
              "      <th></th>\n",
              "      <th>video_id</th>\n",
              "      <th>title</th>\n",
              "      <th>publishedAt</th>\n",
              "      <th>channelId</th>\n",
              "      <th>channelTitle</th>\n",
              "      <th>categoryId</th>\n",
              "      <th>collection_date</th>\n",
              "      <th>tags</th>\n",
              "      <th>likes</th>\n",
              "      <th>dislikes</th>\n",
              "      <th>comment_count</th>\n",
              "      <th>thumbnail_link</th>\n",
              "      <th>comments_disabled</th>\n",
              "      <th>ratings_disabled</th>\n",
              "      <th>description</th>\n",
              "      <th>y</th>\n",
              "    </tr>\n",
              "    <tr>\n",
              "      <th>id</th>\n",
              "      <th></th>\n",
              "      <th></th>\n",
              "      <th></th>\n",
              "      <th></th>\n",
              "      <th></th>\n",
              "      <th></th>\n",
              "      <th></th>\n",
              "      <th></th>\n",
              "      <th></th>\n",
              "      <th></th>\n",
              "      <th></th>\n",
              "      <th></th>\n",
              "      <th></th>\n",
              "      <th></th>\n",
              "      <th></th>\n",
              "      <th></th>\n",
              "    </tr>\n",
              "  </thead>\n",
              "  <tbody>\n",
              "    <tr>\n",
              "      <th>3361</th>\n",
              "      <td>E1Nyg03z0pQ</td>\n",
              "      <td>H.R. GIGER</td>\n",
              "      <td>-1.429517</td>\n",
              "      <td>UCT0R2PJweieLDNNJhyNx4HA</td>\n",
              "      <td>fuzzedoutmama</td>\n",
              "      <td>1</td>\n",
              "      <td>19.30.12</td>\n",
              "      <td>GIGER</td>\n",
              "      <td>-0.250120</td>\n",
              "      <td>-0.206837</td>\n",
              "      <td>-0.143602</td>\n",
              "      <td>https://i.ytimg.com/vi/E1Nyg03z0pQ/default.jpg</td>\n",
              "      <td>False</td>\n",
              "      <td>False</td>\n",
              "      <td>giger</td>\n",
              "      <td>349785</td>\n",
              "    </tr>\n",
              "    <tr>\n",
              "      <th>4658</th>\n",
              "      <td>b-griRtKHLU</td>\n",
              "      <td>スチャダラパーとEGO-WRAPPIN' ミクロボーイとマクロガール（Official Mu...</td>\n",
              "      <td>1.172165</td>\n",
              "      <td>UCQZDh-m6a31o7rXJPuMiFbA</td>\n",
              "      <td>SPACE SHOWER MUSIC</td>\n",
              "      <td>10</td>\n",
              "      <td>20.09.02</td>\n",
              "      <td>スチャダラパー|schadaraparr|Bose|ANI|SHINCO|ラップグループ|今...</td>\n",
              "      <td>0.219213</td>\n",
              "      <td>0.091808</td>\n",
              "      <td>-0.023579</td>\n",
              "      <td>https://i.ytimg.com/vi/b-griRtKHLU/default.jpg</td>\n",
              "      <td>False</td>\n",
              "      <td>False</td>\n",
              "      <td>スチャダラパーとEGO-WRAPPIN’によるコラボ曲「ミクロボーイとマクロガール」のミュー...</td>\n",
              "      <td>2383295</td>\n",
              "    </tr>\n",
              "    <tr>\n",
              "      <th>10206</th>\n",
              "      <td>PPJBp5naSf8</td>\n",
              "      <td>[びじゅチューン！] 兵馬俑ウエディング | NHK</td>\n",
              "      <td>1.272681</td>\n",
              "      <td>UCip8ve30-AoX2y2OtAAmqFA</td>\n",
              "      <td>NHK</td>\n",
              "      <td>24</td>\n",
              "      <td>20.09.02</td>\n",
              "      <td>井上涼|びじゅチューン！|びじゅチューン|アニメ|美術|兵馬俑ウエディング|兵馬俑|始皇帝|...</td>\n",
              "      <td>-0.251909</td>\n",
              "      <td>-0.195614</td>\n",
              "      <td>-0.241163</td>\n",
              "      <td>https://i.ytimg.com/vi/PPJBp5naSf8/default.jpg</td>\n",
              "      <td>True</td>\n",
              "      <td>False</td>\n",
              "      <td>NHKサイトで全作公開中！どーがレージ＞＞https://www.nhk.or.jp/d-g...</td>\n",
              "      <td>382571</td>\n",
              "    </tr>\n",
              "  </tbody>\n",
              "</table>\n",
              "</div>"
            ],
            "text/plain": [
              "          video_id  ...        y\n",
              "id                  ...         \n",
              "3361   E1Nyg03z0pQ  ...   349785\n",
              "4658   b-griRtKHLU  ...  2383295\n",
              "10206  PPJBp5naSf8  ...   382571\n",
              "\n",
              "[3 rows x 16 columns]"
            ]
          },
          "metadata": {
            "tags": []
          },
          "execution_count": 40
        }
      ]
    }
  ]
}